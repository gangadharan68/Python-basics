{
 "cells": [
  {
   "cell_type": "code",
   "execution_count": 1,
   "metadata": {},
   "outputs": [],
   "source": [
    "#1. Declare two variables, `x` and `y`, and assign them integer values. Swap the values of these variables without using any temporary variable.\n",
    "x=5\n",
    "y=6\n",
    "# here i gave, values to the variable x and y as 5 and 6 respectively."
   ]
  },
  {
   "cell_type": "code",
   "execution_count": 2,
   "metadata": {},
   "outputs": [],
   "source": [
    "x,y=y,x\n",
    "# Here i swapped the value by using the '=' operator. \n",
    "# This means x and y values are equivalent to the value of y and x\n",
    "# This simultaneous assignment effectively swaps the values of x and y without the need for a temporary variable."
   ]
  },
  {
   "cell_type": "code",
   "execution_count": 3,
   "metadata": {},
   "outputs": [
    {
     "name": "stdout",
     "output_type": "stream",
     "text": [
      "6\n",
      "5\n"
     ]
    }
   ],
   "source": [
    "print (x)\n",
    "print (y)"
   ]
  },
  {
   "cell_type": "code",
   "execution_count": 5,
   "metadata": {},
   "outputs": [],
   "source": [
    "#2. Create a program that calculates the area of a rectangle. Take the length and width as inputs from the user and store them in variables. Calculate and\n",
    "# display the area.\n",
    "a=int(input('length of the triangle'))\n",
    "\n",
    "# here i take input as length of the triangle. the value for the input is 5.So i took the help of int data type to type cast the input into integer."
   ]
  },
  {
   "cell_type": "code",
   "execution_count": 6,
   "metadata": {},
   "outputs": [],
   "source": [
    "b=int(input('width of the triangle'))\n",
    "\n",
    "# here i take input as width of the triangle. the value for the input is 4.So i took the help of int data type to type cast the input into integer."
   ]
  },
  {
   "cell_type": "code",
   "execution_count": 7,
   "metadata": {},
   "outputs": [
    {
     "data": {
      "text/plain": [
       "5"
      ]
     },
     "execution_count": 7,
     "metadata": {},
     "output_type": "execute_result"
    }
   ],
   "source": [
    "a\n",
    "\n",
    "# Here it shows the value of the variable(a) as 5, that is an integer."
   ]
  },
  {
   "cell_type": "code",
   "execution_count": 8,
   "metadata": {},
   "outputs": [
    {
     "data": {
      "text/plain": [
       "4"
      ]
     },
     "execution_count": 8,
     "metadata": {},
     "output_type": "execute_result"
    }
   ],
   "source": [
    "b\n",
    "\n",
    "# here it shoes the value of the variable(b) as 4, that is an integer."
   ]
  },
  {
   "cell_type": "code",
   "execution_count": 9,
   "metadata": {},
   "outputs": [
    {
     "name": "stdout",
     "output_type": "stream",
     "text": [
      "10.0\n"
     ]
    }
   ],
   "source": [
    "print(1/2*a*b)\n",
    "\n",
    "# Finally i used the formula of area of triangle = 1/2*length*breadth"
   ]
  },
  {
   "cell_type": "code",
   "execution_count": 10,
   "metadata": {},
   "outputs": [],
   "source": [
    "#3. Write a Python program that converts temperatures from Celsius to Fahrenheit. Take the temperature in Celsius as input, store it in a variable,\n",
    "# convert it to Fahrenheit, and display the result.\n",
    "\n",
    "a=float(input('temperature in celsius'))\n",
    "\n",
    "# Here i took the temperature in celsius as input.\n",
    "# And stored it in the variable(a).\n",
    "# to store a decimal value i chose float data type."
   ]
  },
  {
   "cell_type": "code",
   "execution_count": 11,
   "metadata": {},
   "outputs": [
    {
     "data": {
      "text/plain": [
       "38.5"
      ]
     },
     "execution_count": 11,
     "metadata": {},
     "output_type": "execute_result"
    }
   ],
   "source": [
    "a\n",
    "\n",
    "# Here (a) stands for temperature in celsius."
   ]
  },
  {
   "cell_type": "code",
   "execution_count": 12,
   "metadata": {},
   "outputs": [],
   "source": [
    "b=101.3\n",
    "\n",
    "# Here (b) stands for temperature in fahrenheit.\n",
    "# which i converted the celsius into fahrenheit."
   ]
  },
  {
   "cell_type": "code",
   "execution_count": 13,
   "metadata": {},
   "outputs": [],
   "source": [
    "a,b=b,a\n",
    "\n",
    "# Here i swapped the value by using the '=' operator. \n",
    "# This means a and b values are equivalent to the value of b and a\n",
    "# This simultaneous assignment effectively swaps the values of a and b."
   ]
  },
  {
   "cell_type": "code",
   "execution_count": 14,
   "metadata": {},
   "outputs": [
    {
     "data": {
      "text/plain": [
       "101.3"
      ]
     },
     "execution_count": 14,
     "metadata": {},
     "output_type": "execute_result"
    }
   ],
   "source": [
    "a\n",
    "\n",
    "# Here we got the result.\n",
    "# We changed the value of (a),i.e.,from temperature in celsius to temperature in fahrenheit."
   ]
  },
  {
   "cell_type": "code",
   "execution_count": 15,
   "metadata": {},
   "outputs": [],
   "source": [
    "#1. Write a Python program that takes a string as input and prints the length of the string.\n",
    "a=str(input('string'))\n",
    "\n",
    "# Here i used input function to store a string value(pwskills) in the variable."
   ]
  },
  {
   "cell_type": "code",
   "execution_count": 16,
   "metadata": {},
   "outputs": [
    {
     "data": {
      "text/plain": [
       "'pwskills'"
      ]
     },
     "execution_count": 16,
     "metadata": {},
     "output_type": "execute_result"
    }
   ],
   "source": [
    "a\n",
    "\n",
    "# here it shows the result as the value of the variable(a) is pwskills."
   ]
  },
  {
   "cell_type": "code",
   "execution_count": 17,
   "metadata": {},
   "outputs": [
    {
     "data": {
      "text/plain": [
       "8"
      ]
     },
     "execution_count": 17,
     "metadata": {},
     "output_type": "execute_result"
    }
   ],
   "source": [
    "len(a)\n",
    "\n",
    "# it shows the length of the pwskills.\n",
    "# i used len() function to calculate the length of the pwskills."
   ]
  },
  {
   "cell_type": "code",
   "execution_count": 18,
   "metadata": {},
   "outputs": [],
   "source": [
    "#2. Create a program that takes a sentence from the user and counts the number of vowels (a, e, i, o, u) in the string.\n",
    "# the sentence is i louve you india\n",
    "sentence = \"i love you india\""
   ]
  },
  {
   "cell_type": "code",
   "execution_count": 19,
   "metadata": {},
   "outputs": [],
   "source": [
    "# here i list the vowels\n",
    "vowels = ['a', 'e', 'i', 'o', 'u']"
   ]
  },
  {
   "cell_type": "code",
   "execution_count": 20,
   "metadata": {},
   "outputs": [],
   "source": [
    "# here initialized a variable to count vowels\n",
    "vowel_count = 0\n"
   ]
  },
  {
   "cell_type": "code",
   "execution_count": 21,
   "metadata": {},
   "outputs": [],
   "source": [
    "# Iterate through each character in the sentence\n",
    "for char in sentence:\n",
    "    # Check if the character is a vowel (case insensitive)\n",
    "    if char.lower() in vowels:\n",
    "        vowel_count += 1"
   ]
  },
  {
   "cell_type": "code",
   "execution_count": 22,
   "metadata": {},
   "outputs": [
    {
     "name": "stdout",
     "output_type": "stream",
     "text": [
      "Total number of vowels in the sentence: 8\n"
     ]
    }
   ],
   "source": [
    "# Print the total count of vowels\n",
    "print(\"Total number of vowels in the sentence:\", vowel_count)"
   ]
  },
  {
   "cell_type": "code",
   "execution_count": 23,
   "metadata": {},
   "outputs": [],
   "source": [
    "#3. Given a string, reverse the order of characters using string slicing and print the reversed string.\n",
    "a='chennai'\n",
    "# here i gave a value for the variable as chennai."
   ]
  },
  {
   "cell_type": "code",
   "execution_count": 24,
   "metadata": {},
   "outputs": [],
   "source": [
    "b= a[::-1]\n",
    "# here i used index numbers to reverse the order, through slicing method and denoted as b."
   ]
  },
  {
   "cell_type": "code",
   "execution_count": 25,
   "metadata": {},
   "outputs": [
    {
     "name": "stdout",
     "output_type": "stream",
     "text": [
      "iannehc\n"
     ]
    }
   ],
   "source": [
    "print(b)\n",
    "# printed the value of b, which is the reverse order of chennai."
   ]
  },
  {
   "cell_type": "code",
   "execution_count": 26,
   "metadata": {},
   "outputs": [],
   "source": [
    "#4. Write a program that takes a string as input and checks if it is a palindrome\n",
    "a='tenet'"
   ]
  },
  {
   "cell_type": "code",
   "execution_count": 27,
   "metadata": {},
   "outputs": [],
   "source": [
    "def ispalindrome(str):'a'\n",
    "\n",
    "# here i used def function to define the palindrome.\n",
    "# and mentioned the string as hello"
   ]
  },
  {
   "cell_type": "code",
   "execution_count": 28,
   "metadata": {},
   "outputs": [],
   "source": [
    "rev = a[::-1]\n",
    "\n",
    "# here i reversed the string(a), using negative slicing method."
   ]
  },
  {
   "cell_type": "code",
   "execution_count": 29,
   "metadata": {},
   "outputs": [
    {
     "data": {
      "text/plain": [
       "True"
      ]
     },
     "execution_count": 29,
     "metadata": {},
     "output_type": "execute_result"
    }
   ],
   "source": [
    "(rev==a)\n",
    "\n",
    "# here i ensure, whether the string is a palindrome or not by using (==) operator.\n",
    "# and the result is palindrome\n",
    "# the type of the result is boolean. "
   ]
  },
  {
   "cell_type": "code",
   "execution_count": 30,
   "metadata": {},
   "outputs": [],
   "source": [
    "#5. Create a program that takes a string as input and removes all the spaces from it. Print the modified string without spaces.\n",
    "a='i am a data scientist'\n",
    "\n",
    "# here i took i am a data scientist as a value for the variable."
   ]
  },
  {
   "cell_type": "code",
   "execution_count": 31,
   "metadata": {},
   "outputs": [
    {
     "data": {
      "text/plain": [
       "'iamadatascientist'"
      ]
     },
     "execution_count": 31,
     "metadata": {},
     "output_type": "execute_result"
    }
   ],
   "source": [
    "a.replace(\" \",\"\")\n",
    "\n",
    "# here i used (.replace) function to remove spaces between the string."
   ]
  },
  {
   "cell_type": "code",
   "execution_count": null,
   "metadata": {},
   "outputs": [],
   "source": []
  }
 ],
 "metadata": {
  "kernelspec": {
   "display_name": "Python 3",
   "language": "python",
   "name": "python3"
  },
  "language_info": {
   "codemirror_mode": {
    "name": "ipython",
    "version": 3
   },
   "file_extension": ".py",
   "mimetype": "text/x-python",
   "name": "python",
   "nbconvert_exporter": "python",
   "pygments_lexer": "ipython3",
   "version": "3.12.1"
  }
 },
 "nbformat": 4,
 "nbformat_minor": 2
}
